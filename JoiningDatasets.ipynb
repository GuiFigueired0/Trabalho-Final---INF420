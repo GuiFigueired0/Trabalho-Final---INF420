{
 "cells": [
  {
   "cell_type": "markdown",
   "metadata": {},
   "source": [
    "## Importando as dependências"
   ]
  },
  {
   "cell_type": "code",
   "execution_count": 1,
   "metadata": {},
   "outputs": [],
   "source": [
    "import pandas as pd"
   ]
  },
  {
   "cell_type": "markdown",
   "metadata": {},
   "source": [
    "## Exemplo de dataset"
   ]
  },
  {
   "cell_type": "code",
   "execution_count": 2,
   "metadata": {},
   "outputs": [],
   "source": [
    "raw_csv_data = pd.read_csv(\"data/condition/condition_1.csv\") \n",
    "df = raw_csv_data.copy() "
   ]
  },
  {
   "cell_type": "code",
   "execution_count": 3,
   "metadata": {},
   "outputs": [
    {
     "data": {
      "text/html": [
       "<div>\n",
       "<style scoped>\n",
       "    .dataframe tbody tr th:only-of-type {\n",
       "        vertical-align: middle;\n",
       "    }\n",
       "\n",
       "    .dataframe tbody tr th {\n",
       "        vertical-align: top;\n",
       "    }\n",
       "\n",
       "    .dataframe thead th {\n",
       "        text-align: right;\n",
       "    }\n",
       "</style>\n",
       "<table border=\"1\" class=\"dataframe\">\n",
       "  <thead>\n",
       "    <tr style=\"text-align: right;\">\n",
       "      <th></th>\n",
       "      <th>timestamp</th>\n",
       "      <th>activity</th>\n",
       "    </tr>\n",
       "    <tr>\n",
       "      <th>date</th>\n",
       "      <th></th>\n",
       "      <th></th>\n",
       "    </tr>\n",
       "  </thead>\n",
       "  <tbody>\n",
       "    <tr>\n",
       "      <th>2003-05-07</th>\n",
       "      <td>720</td>\n",
       "      <td>720</td>\n",
       "    </tr>\n",
       "    <tr>\n",
       "      <th>2003-05-08</th>\n",
       "      <td>1440</td>\n",
       "      <td>1440</td>\n",
       "    </tr>\n",
       "    <tr>\n",
       "      <th>2003-05-09</th>\n",
       "      <td>1440</td>\n",
       "      <td>1440</td>\n",
       "    </tr>\n",
       "    <tr>\n",
       "      <th>2003-05-10</th>\n",
       "      <td>1440</td>\n",
       "      <td>1440</td>\n",
       "    </tr>\n",
       "    <tr>\n",
       "      <th>2003-05-11</th>\n",
       "      <td>1440</td>\n",
       "      <td>1440</td>\n",
       "    </tr>\n",
       "    <tr>\n",
       "      <th>2003-05-12</th>\n",
       "      <td>1440</td>\n",
       "      <td>1440</td>\n",
       "    </tr>\n",
       "    <tr>\n",
       "      <th>2003-05-13</th>\n",
       "      <td>1440</td>\n",
       "      <td>1440</td>\n",
       "    </tr>\n",
       "    <tr>\n",
       "      <th>2003-05-14</th>\n",
       "      <td>1440</td>\n",
       "      <td>1440</td>\n",
       "    </tr>\n",
       "    <tr>\n",
       "      <th>2003-05-15</th>\n",
       "      <td>1440</td>\n",
       "      <td>1440</td>\n",
       "    </tr>\n",
       "    <tr>\n",
       "      <th>2003-05-16</th>\n",
       "      <td>1440</td>\n",
       "      <td>1440</td>\n",
       "    </tr>\n",
       "    <tr>\n",
       "      <th>2003-05-17</th>\n",
       "      <td>1440</td>\n",
       "      <td>1440</td>\n",
       "    </tr>\n",
       "    <tr>\n",
       "      <th>2003-05-18</th>\n",
       "      <td>1440</td>\n",
       "      <td>1440</td>\n",
       "    </tr>\n",
       "    <tr>\n",
       "      <th>2003-05-19</th>\n",
       "      <td>1440</td>\n",
       "      <td>1440</td>\n",
       "    </tr>\n",
       "    <tr>\n",
       "      <th>2003-05-20</th>\n",
       "      <td>1440</td>\n",
       "      <td>1440</td>\n",
       "    </tr>\n",
       "    <tr>\n",
       "      <th>2003-05-21</th>\n",
       "      <td>1440</td>\n",
       "      <td>1440</td>\n",
       "    </tr>\n",
       "    <tr>\n",
       "      <th>2003-05-22</th>\n",
       "      <td>1440</td>\n",
       "      <td>1440</td>\n",
       "    </tr>\n",
       "    <tr>\n",
       "      <th>2003-05-23</th>\n",
       "      <td>924</td>\n",
       "      <td>924</td>\n",
       "    </tr>\n",
       "  </tbody>\n",
       "</table>\n",
       "</div>"
      ],
      "text/plain": [
       "            timestamp  activity\n",
       "date                           \n",
       "2003-05-07        720       720\n",
       "2003-05-08       1440      1440\n",
       "2003-05-09       1440      1440\n",
       "2003-05-10       1440      1440\n",
       "2003-05-11       1440      1440\n",
       "2003-05-12       1440      1440\n",
       "2003-05-13       1440      1440\n",
       "2003-05-14       1440      1440\n",
       "2003-05-15       1440      1440\n",
       "2003-05-16       1440      1440\n",
       "2003-05-17       1440      1440\n",
       "2003-05-18       1440      1440\n",
       "2003-05-19       1440      1440\n",
       "2003-05-20       1440      1440\n",
       "2003-05-21       1440      1440\n",
       "2003-05-22       1440      1440\n",
       "2003-05-23        924       924"
      ]
     },
     "metadata": {},
     "output_type": "display_data"
    }
   ],
   "source": [
    "sizes_df = df.groupby('date').count()\n",
    "display(sizes_df)"
   ]
  },
  {
   "cell_type": "markdown",
   "metadata": {},
   "source": [
    "## Scores Dataframe"
   ]
  },
  {
   "cell_type": "code",
   "execution_count": 4,
   "metadata": {},
   "outputs": [],
   "source": [
    "raw_csv_data = pd.read_csv(\"data/scores.csv\")\n",
    "scores_df = raw_csv_data.copy()"
   ]
  },
  {
   "cell_type": "code",
   "execution_count": 5,
   "metadata": {},
   "outputs": [
    {
     "data": {
      "text/html": [
       "<div>\n",
       "<style scoped>\n",
       "    .dataframe tbody tr th:only-of-type {\n",
       "        vertical-align: middle;\n",
       "    }\n",
       "\n",
       "    .dataframe tbody tr th {\n",
       "        vertical-align: top;\n",
       "    }\n",
       "\n",
       "    .dataframe thead th {\n",
       "        text-align: right;\n",
       "    }\n",
       "</style>\n",
       "<table border=\"1\" class=\"dataframe\">\n",
       "  <thead>\n",
       "    <tr style=\"text-align: right;\">\n",
       "      <th></th>\n",
       "      <th>days</th>\n",
       "      <th>gender</th>\n",
       "      <th>age</th>\n",
       "      <th>afftype</th>\n",
       "      <th>melanch</th>\n",
       "      <th>inpatient</th>\n",
       "      <th>edu</th>\n",
       "      <th>marriage</th>\n",
       "      <th>work</th>\n",
       "      <th>madrs1</th>\n",
       "      <th>madrs2</th>\n",
       "    </tr>\n",
       "    <tr>\n",
       "      <th>number</th>\n",
       "      <th></th>\n",
       "      <th></th>\n",
       "      <th></th>\n",
       "      <th></th>\n",
       "      <th></th>\n",
       "      <th></th>\n",
       "      <th></th>\n",
       "      <th></th>\n",
       "      <th></th>\n",
       "      <th></th>\n",
       "      <th></th>\n",
       "    </tr>\n",
       "  </thead>\n",
       "  <tbody>\n",
       "    <tr>\n",
       "      <th>condition_1</th>\n",
       "      <td>11</td>\n",
       "      <td>2</td>\n",
       "      <td>35-39</td>\n",
       "      <td>2.0</td>\n",
       "      <td>2.0</td>\n",
       "      <td>2.0</td>\n",
       "      <td>6-10</td>\n",
       "      <td>1.0</td>\n",
       "      <td>2.0</td>\n",
       "      <td>19.0</td>\n",
       "      <td>19.0</td>\n",
       "    </tr>\n",
       "    <tr>\n",
       "      <th>condition_2</th>\n",
       "      <td>18</td>\n",
       "      <td>2</td>\n",
       "      <td>40-44</td>\n",
       "      <td>1.0</td>\n",
       "      <td>2.0</td>\n",
       "      <td>2.0</td>\n",
       "      <td>6-10</td>\n",
       "      <td>2.0</td>\n",
       "      <td>2.0</td>\n",
       "      <td>24.0</td>\n",
       "      <td>11.0</td>\n",
       "    </tr>\n",
       "    <tr>\n",
       "      <th>condition_3</th>\n",
       "      <td>13</td>\n",
       "      <td>1</td>\n",
       "      <td>45-49</td>\n",
       "      <td>2.0</td>\n",
       "      <td>2.0</td>\n",
       "      <td>2.0</td>\n",
       "      <td>6-10</td>\n",
       "      <td>2.0</td>\n",
       "      <td>2.0</td>\n",
       "      <td>24.0</td>\n",
       "      <td>25.0</td>\n",
       "    </tr>\n",
       "    <tr>\n",
       "      <th>condition_4</th>\n",
       "      <td>13</td>\n",
       "      <td>2</td>\n",
       "      <td>25-29</td>\n",
       "      <td>2.0</td>\n",
       "      <td>2.0</td>\n",
       "      <td>2.0</td>\n",
       "      <td>11-15</td>\n",
       "      <td>1.0</td>\n",
       "      <td>1.0</td>\n",
       "      <td>20.0</td>\n",
       "      <td>16.0</td>\n",
       "    </tr>\n",
       "    <tr>\n",
       "      <th>condition_5</th>\n",
       "      <td>13</td>\n",
       "      <td>2</td>\n",
       "      <td>50-54</td>\n",
       "      <td>2.0</td>\n",
       "      <td>2.0</td>\n",
       "      <td>2.0</td>\n",
       "      <td>11-15</td>\n",
       "      <td>2.0</td>\n",
       "      <td>2.0</td>\n",
       "      <td>26.0</td>\n",
       "      <td>26.0</td>\n",
       "    </tr>\n",
       "  </tbody>\n",
       "</table>\n",
       "</div>"
      ],
      "text/plain": [
       "             days  gender    age  afftype  melanch  inpatient    edu  \\\n",
       "number                                                                 \n",
       "condition_1    11       2  35-39      2.0      2.0        2.0   6-10   \n",
       "condition_2    18       2  40-44      1.0      2.0        2.0   6-10   \n",
       "condition_3    13       1  45-49      2.0      2.0        2.0   6-10   \n",
       "condition_4    13       2  25-29      2.0      2.0        2.0  11-15   \n",
       "condition_5    13       2  50-54      2.0      2.0        2.0  11-15   \n",
       "\n",
       "             marriage  work  madrs1  madrs2  \n",
       "number                                       \n",
       "condition_1       1.0   2.0    19.0    19.0  \n",
       "condition_2       2.0   2.0    24.0    11.0  \n",
       "condition_3       2.0   2.0    24.0    25.0  \n",
       "condition_4       1.0   1.0    20.0    16.0  \n",
       "condition_5       2.0   2.0    26.0    26.0  "
      ]
     },
     "execution_count": 5,
     "metadata": {},
     "output_type": "execute_result"
    }
   ],
   "source": [
    "scores_df.set_index('number', inplace=True)\n",
    "scores_df.head()"
   ]
  },
  {
   "cell_type": "markdown",
   "metadata": {},
   "source": [
    "### Preenchendo os valores NULL do dataset"
   ]
  },
  {
   "cell_type": "code",
   "execution_count": 6,
   "metadata": {},
   "outputs": [
    {
     "name": "stdout",
     "output_type": "stream",
     "text": [
      "<class 'pandas.core.frame.DataFrame'>\n",
      "Index: 55 entries, condition_1 to control_32\n",
      "Data columns (total 11 columns):\n",
      " #   Column     Non-Null Count  Dtype  \n",
      "---  ------     --------------  -----  \n",
      " 0   days       55 non-null     int64  \n",
      " 1   gender     55 non-null     int64  \n",
      " 2   age        55 non-null     object \n",
      " 3   afftype    23 non-null     float64\n",
      " 4   melanch    20 non-null     float64\n",
      " 5   inpatient  23 non-null     float64\n",
      " 6   edu        53 non-null     object \n",
      " 7   marriage   23 non-null     float64\n",
      " 8   work       23 non-null     float64\n",
      " 9   madrs1     23 non-null     float64\n",
      " 10  madrs2     23 non-null     float64\n",
      "dtypes: float64(7), int64(2), object(2)\n",
      "memory usage: 5.2+ KB\n"
     ]
    }
   ],
   "source": [
    "scores_df.info()"
   ]
  },
  {
   "cell_type": "code",
   "execution_count": 7,
   "metadata": {},
   "outputs": [],
   "source": [
    "scores_df.fillna(0, inplace=True)"
   ]
  },
  {
   "cell_type": "markdown",
   "metadata": {},
   "source": [
    "# Juntando os datasets"
   ]
  },
  {
   "cell_type": "markdown",
   "metadata": {},
   "source": [
    "## Funções auxiliares"
   ]
  },
  {
   "cell_type": "code",
   "execution_count": 8,
   "metadata": {},
   "outputs": [],
   "source": [
    "def pathCondition(id):\n",
    "    return f'data/condition/condition_{id}.csv'\n",
    "\n",
    "def pathControl(id):\n",
    "    return f'data/control/control_{id}.csv'"
   ]
  },
  {
   "cell_type": "markdown",
   "metadata": {},
   "source": [
    "## Separando os datasets em time series (uma por dia)\n",
    "Os dias não completos, ou seja, sem 1440 instâncias, não serão utilizados."
   ]
  },
  {
   "cell_type": "code",
   "execution_count": 9,
   "metadata": {},
   "outputs": [
    {
     "name": "stdout",
     "output_type": "stream",
     "text": [
      "Number of not complete days: 115\n",
      "Number of complete days: 1029\n",
      "Number of days from control: 670\n",
      "Number of days from condition: 359\n"
     ]
    }
   ],
   "source": [
    "count_condition = 0\n",
    "count_control = 0\n",
    "complete = []\n",
    "not_complete = []\n",
    "for i in range(1,24): \n",
    "    path = pathCondition(i)\n",
    "    raw_csv_data = pd.read_csv(path) \n",
    "    df = raw_csv_data.copy() \n",
    "    sizes_df = df.groupby('date').count()\n",
    "    sizes_df['path'] = path\n",
    "    not_complete.append(sizes_df.loc[sizes_df['timestamp']!=1440])\n",
    "    complete.append(sizes_df.loc[sizes_df['timestamp']==1440])\n",
    "    count_condition += len(sizes_df.loc[sizes_df['timestamp']==1440])\n",
    "    \n",
    "for i in range(1,33): \n",
    "    path = pathControl(i)\n",
    "    raw_csv_data = pd.read_csv(path) \n",
    "    df = raw_csv_data.copy() \n",
    "    sizes_df = df.groupby('date').count()\n",
    "    sizes_df['path'] = path\n",
    "    not_complete.append(sizes_df.loc[sizes_df['timestamp']!=1440])\n",
    "    complete.append(sizes_df.loc[sizes_df['timestamp']==1440])\n",
    "    count_control += len(sizes_df.loc[sizes_df['timestamp']==1440])\n",
    "\n",
    "complete_df = pd.concat(complete)\n",
    "not_complete_df = pd.concat(not_complete)\n",
    "print(f'Number of not complete days: {len(not_complete_df)}')\n",
    "print(f'Number of complete days: {len(complete_df)}')\n",
    "print(f'Number of days from control: {count_control}')\n",
    "print(f'Number of days from condition: {count_condition}')"
   ]
  },
  {
   "cell_type": "code",
   "execution_count": 10,
   "metadata": {},
   "outputs": [
    {
     "data": {
      "text/html": [
       "<div>\n",
       "<style scoped>\n",
       "    .dataframe tbody tr th:only-of-type {\n",
       "        vertical-align: middle;\n",
       "    }\n",
       "\n",
       "    .dataframe tbody tr th {\n",
       "        vertical-align: top;\n",
       "    }\n",
       "\n",
       "    .dataframe thead th {\n",
       "        text-align: right;\n",
       "    }\n",
       "</style>\n",
       "<table border=\"1\" class=\"dataframe\">\n",
       "  <thead>\n",
       "    <tr style=\"text-align: right;\">\n",
       "      <th></th>\n",
       "      <th>timestamp</th>\n",
       "      <th>activity</th>\n",
       "      <th>path</th>\n",
       "    </tr>\n",
       "    <tr>\n",
       "      <th>date</th>\n",
       "      <th></th>\n",
       "      <th></th>\n",
       "      <th></th>\n",
       "    </tr>\n",
       "  </thead>\n",
       "  <tbody>\n",
       "    <tr>\n",
       "      <th>2003-05-08</th>\n",
       "      <td>1440</td>\n",
       "      <td>1440</td>\n",
       "      <td>data/condition/condition_1.csv</td>\n",
       "    </tr>\n",
       "    <tr>\n",
       "      <th>2003-05-09</th>\n",
       "      <td>1440</td>\n",
       "      <td>1440</td>\n",
       "      <td>data/condition/condition_1.csv</td>\n",
       "    </tr>\n",
       "    <tr>\n",
       "      <th>2003-05-10</th>\n",
       "      <td>1440</td>\n",
       "      <td>1440</td>\n",
       "      <td>data/condition/condition_1.csv</td>\n",
       "    </tr>\n",
       "    <tr>\n",
       "      <th>2003-05-11</th>\n",
       "      <td>1440</td>\n",
       "      <td>1440</td>\n",
       "      <td>data/condition/condition_1.csv</td>\n",
       "    </tr>\n",
       "    <tr>\n",
       "      <th>2003-05-12</th>\n",
       "      <td>1440</td>\n",
       "      <td>1440</td>\n",
       "      <td>data/condition/condition_1.csv</td>\n",
       "    </tr>\n",
       "  </tbody>\n",
       "</table>\n",
       "</div>"
      ],
      "text/plain": [
       "            timestamp  activity                            path\n",
       "date                                                           \n",
       "2003-05-08       1440      1440  data/condition/condition_1.csv\n",
       "2003-05-09       1440      1440  data/condition/condition_1.csv\n",
       "2003-05-10       1440      1440  data/condition/condition_1.csv\n",
       "2003-05-11       1440      1440  data/condition/condition_1.csv\n",
       "2003-05-12       1440      1440  data/condition/condition_1.csv"
      ]
     },
     "execution_count": 10,
     "metadata": {},
     "output_type": "execute_result"
    }
   ],
   "source": [
    "complete_df.head()"
   ]
  },
  {
   "cell_type": "markdown",
   "metadata": {},
   "source": [
    "## Lendo as time series e armazendo-as em um novo Dataframe"
   ]
  },
  {
   "cell_type": "code",
   "execution_count": 11,
   "metadata": {},
   "outputs": [],
   "source": [
    "afftype = {\n",
    "    0.0: 'control',\n",
    "    1.0: 'bipolar II',\n",
    "    2.0: 'unipolar depressive',\n",
    "    3.0: 'bipolar I'\n",
    "}\n",
    "time_series = []\n",
    "for idx, row in complete_df.iterrows():\n",
    "    number = row['path'].split('/')[-1][:-4]\n",
    "    df = pd.read_csv(row['path'])\n",
    "    filtered_df = df[df.date == idx].copy().set_index('timestamp')\n",
    "    filtered_df['owner'] = number\n",
    "    class_name = afftype[scores_df.at[number, 'afftype']]\n",
    "    filtered_df['afftype'] = class_name\n",
    "    filtered_df['binary_class'] = 'nondepressed' if class_name == 'control' else 'depressed'\n",
    "    time_series.append(filtered_df)\n",
    "\n",
    "time_series_df = pd.concat(time_series, keys=range(len(time_series)), names=['id', 'timestamp'])"
   ]
  },
  {
   "cell_type": "code",
   "execution_count": 12,
   "metadata": {},
   "outputs": [
    {
     "data": {
      "text/html": [
       "<div>\n",
       "<style scoped>\n",
       "    .dataframe tbody tr th:only-of-type {\n",
       "        vertical-align: middle;\n",
       "    }\n",
       "\n",
       "    .dataframe tbody tr th {\n",
       "        vertical-align: top;\n",
       "    }\n",
       "\n",
       "    .dataframe thead th {\n",
       "        text-align: right;\n",
       "    }\n",
       "</style>\n",
       "<table border=\"1\" class=\"dataframe\">\n",
       "  <thead>\n",
       "    <tr style=\"text-align: right;\">\n",
       "      <th></th>\n",
       "      <th></th>\n",
       "      <th>date</th>\n",
       "      <th>activity</th>\n",
       "      <th>owner</th>\n",
       "      <th>afftype</th>\n",
       "      <th>binary_class</th>\n",
       "    </tr>\n",
       "    <tr>\n",
       "      <th>id</th>\n",
       "      <th>timestamp</th>\n",
       "      <th></th>\n",
       "      <th></th>\n",
       "      <th></th>\n",
       "      <th></th>\n",
       "      <th></th>\n",
       "    </tr>\n",
       "  </thead>\n",
       "  <tbody>\n",
       "    <tr>\n",
       "      <th rowspan=\"5\" valign=\"top\">0</th>\n",
       "      <th>2003-05-08 00:00:00</th>\n",
       "      <td>2003-05-08</td>\n",
       "      <td>0</td>\n",
       "      <td>condition_1</td>\n",
       "      <td>unipolar depressive</td>\n",
       "      <td>depressed</td>\n",
       "    </tr>\n",
       "    <tr>\n",
       "      <th>2003-05-08 00:01:00</th>\n",
       "      <td>2003-05-08</td>\n",
       "      <td>0</td>\n",
       "      <td>condition_1</td>\n",
       "      <td>unipolar depressive</td>\n",
       "      <td>depressed</td>\n",
       "    </tr>\n",
       "    <tr>\n",
       "      <th>2003-05-08 00:02:00</th>\n",
       "      <td>2003-05-08</td>\n",
       "      <td>0</td>\n",
       "      <td>condition_1</td>\n",
       "      <td>unipolar depressive</td>\n",
       "      <td>depressed</td>\n",
       "    </tr>\n",
       "    <tr>\n",
       "      <th>2003-05-08 00:03:00</th>\n",
       "      <td>2003-05-08</td>\n",
       "      <td>0</td>\n",
       "      <td>condition_1</td>\n",
       "      <td>unipolar depressive</td>\n",
       "      <td>depressed</td>\n",
       "    </tr>\n",
       "    <tr>\n",
       "      <th>2003-05-08 00:04:00</th>\n",
       "      <td>2003-05-08</td>\n",
       "      <td>0</td>\n",
       "      <td>condition_1</td>\n",
       "      <td>unipolar depressive</td>\n",
       "      <td>depressed</td>\n",
       "    </tr>\n",
       "  </tbody>\n",
       "</table>\n",
       "</div>"
      ],
      "text/plain": [
       "                              date  activity        owner  \\\n",
       "id timestamp                                                \n",
       "0  2003-05-08 00:00:00  2003-05-08         0  condition_1   \n",
       "   2003-05-08 00:01:00  2003-05-08         0  condition_1   \n",
       "   2003-05-08 00:02:00  2003-05-08         0  condition_1   \n",
       "   2003-05-08 00:03:00  2003-05-08         0  condition_1   \n",
       "   2003-05-08 00:04:00  2003-05-08         0  condition_1   \n",
       "\n",
       "                                    afftype binary_class  \n",
       "id timestamp                                              \n",
       "0  2003-05-08 00:00:00  unipolar depressive    depressed  \n",
       "   2003-05-08 00:01:00  unipolar depressive    depressed  \n",
       "   2003-05-08 00:02:00  unipolar depressive    depressed  \n",
       "   2003-05-08 00:03:00  unipolar depressive    depressed  \n",
       "   2003-05-08 00:04:00  unipolar depressive    depressed  "
      ]
     },
     "execution_count": 12,
     "metadata": {},
     "output_type": "execute_result"
    }
   ],
   "source": [
    "time_series_df.head()"
   ]
  },
  {
   "cell_type": "markdown",
   "metadata": {},
   "source": [
    "#### Verificando se o tamanho está correto"
   ]
  },
  {
   "cell_type": "code",
   "execution_count": 13,
   "metadata": {},
   "outputs": [
    {
     "name": "stdout",
     "output_type": "stream",
     "text": [
      "Expected size: 1481760\n",
      "Size of time_series_df: 1481760\n"
     ]
    }
   ],
   "source": [
    "print(f'Expected size: {len(complete_df)*1440}')\n",
    "print(f'Size of time_series_df: {len(time_series_df)}')"
   ]
  },
  {
   "cell_type": "markdown",
   "metadata": {},
   "source": [
    "# Exportando Dataframe de time series"
   ]
  },
  {
   "cell_type": "code",
   "execution_count": 14,
   "metadata": {},
   "outputs": [],
   "source": [
    "time_series_df.to_csv('time_series.csv', index=True)"
   ]
  },
  {
   "cell_type": "markdown",
   "metadata": {},
   "source": [
    "# Distribuição classes de depressão"
   ]
  },
  {
   "cell_type": "code",
   "execution_count": 15,
   "metadata": {},
   "outputs": [
    {
     "name": "stdout",
     "output_type": "stream",
     "text": [
      "Number of days: 1029\n"
     ]
    },
    {
     "data": {
      "text/html": [
       "<div>\n",
       "<style scoped>\n",
       "    .dataframe tbody tr th:only-of-type {\n",
       "        vertical-align: middle;\n",
       "    }\n",
       "\n",
       "    .dataframe tbody tr th {\n",
       "        vertical-align: top;\n",
       "    }\n",
       "\n",
       "    .dataframe thead th {\n",
       "        text-align: right;\n",
       "    }\n",
       "</style>\n",
       "<table border=\"1\" class=\"dataframe\">\n",
       "  <thead>\n",
       "    <tr style=\"text-align: right;\">\n",
       "      <th></th>\n",
       "      <th>owner</th>\n",
       "    </tr>\n",
       "    <tr>\n",
       "      <th>afftype</th>\n",
       "      <th></th>\n",
       "    </tr>\n",
       "  </thead>\n",
       "  <tbody>\n",
       "    <tr>\n",
       "      <th>bipolar I</th>\n",
       "      <td>14</td>\n",
       "    </tr>\n",
       "    <tr>\n",
       "      <th>bipolar II</th>\n",
       "      <td>112</td>\n",
       "    </tr>\n",
       "    <tr>\n",
       "      <th>control</th>\n",
       "      <td>670</td>\n",
       "    </tr>\n",
       "    <tr>\n",
       "      <th>unipolar depressive</th>\n",
       "      <td>233</td>\n",
       "    </tr>\n",
       "  </tbody>\n",
       "</table>\n",
       "</div>"
      ],
      "text/plain": [
       "                     owner\n",
       "afftype                   \n",
       "bipolar I               14\n",
       "bipolar II             112\n",
       "control                670\n",
       "unipolar depressive    233"
      ]
     },
     "metadata": {},
     "output_type": "display_data"
    }
   ],
   "source": [
    "groups = time_series_df.groupby('afftype').count().floordiv(1440).loc[:, ['owner']]\n",
    "print(f'Number of days: {groups.owner.sum()}')\n",
    "display(groups)"
   ]
  },
  {
   "cell_type": "code",
   "execution_count": 16,
   "metadata": {},
   "outputs": [],
   "source": [
    "groups.rename(columns={'owner': 'número de dias'}, inplace=True)"
   ]
  },
  {
   "cell_type": "code",
   "execution_count": 19,
   "metadata": {},
   "outputs": [
    {
     "data": {
      "image/png": "[encoded data removed]",
      "text/plain": [
       "<Figure size 640x480 with 1 Axes>"
      ]
     },
     "metadata": {},
     "output_type": "display_data"
    }
   ],
   "source": [
    "import seaborn as sns \n",
    "import matplotlib.pyplot as plt\n",
    "\n",
    "plot = sns.barplot(data=groups, x='afftype', y='número de dias', errorbar=('ci', False), color='darkblue')\n",
    "for i in plot.patches:\n",
    "    plot.annotate(\n",
    "        int(i.get_height()),\n",
    "        (i.get_x() + i.get_width() / 2, i.get_height()),\n",
    "        ha='center', va='baseline', fontsize=14,\n",
    "        color='black', xytext=(0, 5), \n",
    "        textcoords='offset points'\n",
    "    )\n",
    "plt.title('Distribuição Classes de Depressão. N=1029')\n",
    "plt.ylim(0, 750)\n",
    "plt.show()"
   ]
  }
 ],
 "metadata": {
  "kernelspec": {
   "display_name": "venv",
   "language": "python",
   "name": "python3"
  },
  "language_info": {
   "codemirror_mode": {
    "name": "ipython",
    "version": 3
   },
   "file_extension": ".py",
   "mimetype": "text/x-python",
   "name": "python",
   "nbconvert_exporter": "python",
   "pygments_lexer": "ipython3",
   "version": "3.12.4"
  }
 },
 "nbformat": 4,
 "nbformat_minor": 2
}
