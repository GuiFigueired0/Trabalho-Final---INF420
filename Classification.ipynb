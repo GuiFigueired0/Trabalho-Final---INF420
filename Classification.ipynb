{
 "cells": [
  {
   "cell_type": "code",
   "execution_count": 1,
   "metadata": {},
   "outputs": [],
   "source": [
    "import time\n",
    "import random\n",
    "import numpy as np\n",
    "import pandas as pd\n",
    "\n",
    "from sklearn.model_selection import StratifiedKFold\n",
    "from sktime.classification.interval_based import TimeSeriesForestClassifier\n",
    "from sklearn.preprocessing import MinMaxScaler\n",
    "from sklearn.metrics import accuracy_score\n",
    "\n",
    "import tensorflow as tf\n",
    "from keras.optimizers import Adam\n",
    "from keras.models import Sequential\n",
    "from keras.layers import LSTM, Dense, Input"
   ]
  },
  {
   "cell_type": "code",
   "execution_count": 2,
   "metadata": {},
   "outputs": [],
   "source": [
    "raw_csv_data: pd.DataFrame = pd.read_csv('time_series.csv') \n",
    "df: pd.DataFrame = raw_csv_data.copy() "
   ]
  },
  {
   "cell_type": "code",
   "execution_count": 3,
   "metadata": {},
   "outputs": [
    {
     "data": {
      "text/html": [
       "<div>\n",
       "<style scoped>\n",
       "    .dataframe tbody tr th:only-of-type {\n",
       "        vertical-align: middle;\n",
       "    }\n",
       "\n",
       "    .dataframe tbody tr th {\n",
       "        vertical-align: top;\n",
       "    }\n",
       "\n",
       "    .dataframe thead th {\n",
       "        text-align: right;\n",
       "    }\n",
       "</style>\n",
       "<table border=\"1\" class=\"dataframe\">\n",
       "  <thead>\n",
       "    <tr style=\"text-align: right;\">\n",
       "      <th></th>\n",
       "      <th>id</th>\n",
       "      <th>timestamp</th>\n",
       "      <th>date</th>\n",
       "      <th>activity</th>\n",
       "      <th>owner</th>\n",
       "      <th>class</th>\n",
       "      <th>binary_class</th>\n",
       "    </tr>\n",
       "  </thead>\n",
       "  <tbody>\n",
       "    <tr>\n",
       "      <th>0</th>\n",
       "      <td>0</td>\n",
       "      <td>2003-05-08 00:00:00</td>\n",
       "      <td>2003-05-08</td>\n",
       "      <td>0</td>\n",
       "      <td>condition_1</td>\n",
       "      <td>unipolar depressive</td>\n",
       "      <td>depressed</td>\n",
       "    </tr>\n",
       "    <tr>\n",
       "      <th>1</th>\n",
       "      <td>0</td>\n",
       "      <td>2003-05-08 00:01:00</td>\n",
       "      <td>2003-05-08</td>\n",
       "      <td>0</td>\n",
       "      <td>condition_1</td>\n",
       "      <td>unipolar depressive</td>\n",
       "      <td>depressed</td>\n",
       "    </tr>\n",
       "    <tr>\n",
       "      <th>2</th>\n",
       "      <td>0</td>\n",
       "      <td>2003-05-08 00:02:00</td>\n",
       "      <td>2003-05-08</td>\n",
       "      <td>0</td>\n",
       "      <td>condition_1</td>\n",
       "      <td>unipolar depressive</td>\n",
       "      <td>depressed</td>\n",
       "    </tr>\n",
       "    <tr>\n",
       "      <th>3</th>\n",
       "      <td>0</td>\n",
       "      <td>2003-05-08 00:03:00</td>\n",
       "      <td>2003-05-08</td>\n",
       "      <td>0</td>\n",
       "      <td>condition_1</td>\n",
       "      <td>unipolar depressive</td>\n",
       "      <td>depressed</td>\n",
       "    </tr>\n",
       "    <tr>\n",
       "      <th>4</th>\n",
       "      <td>0</td>\n",
       "      <td>2003-05-08 00:04:00</td>\n",
       "      <td>2003-05-08</td>\n",
       "      <td>0</td>\n",
       "      <td>condition_1</td>\n",
       "      <td>unipolar depressive</td>\n",
       "      <td>depressed</td>\n",
       "    </tr>\n",
       "  </tbody>\n",
       "</table>\n",
       "</div>"
      ],
      "text/plain": [
       "   id            timestamp        date  activity        owner  \\\n",
       "0   0  2003-05-08 00:00:00  2003-05-08         0  condition_1   \n",
       "1   0  2003-05-08 00:01:00  2003-05-08         0  condition_1   \n",
       "2   0  2003-05-08 00:02:00  2003-05-08         0  condition_1   \n",
       "3   0  2003-05-08 00:03:00  2003-05-08         0  condition_1   \n",
       "4   0  2003-05-08 00:04:00  2003-05-08         0  condition_1   \n",
       "\n",
       "                 class binary_class  \n",
       "0  unipolar depressive    depressed  \n",
       "1  unipolar depressive    depressed  \n",
       "2  unipolar depressive    depressed  \n",
       "3  unipolar depressive    depressed  \n",
       "4  unipolar depressive    depressed  "
      ]
     },
     "execution_count": 3,
     "metadata": {},
     "output_type": "execute_result"
    }
   ],
   "source": [
    "df.head()"
   ]
  },
  {
   "cell_type": "code",
   "execution_count": 4,
   "metadata": {},
   "outputs": [],
   "source": [
    "def to_2D_array(df: pd.DataFrame, n_days: int, variable: str) -> np.ndarray:\n",
    "    n_users: int = len(df.id.unique())\n",
    "    arr: np.ndarray = df[variable].values.reshape(n_users, n_days)\n",
    "    return arr"
   ]
  },
  {
   "cell_type": "code",
   "execution_count": 5,
   "metadata": {},
   "outputs": [
    {
     "data": {
      "text/plain": [
       "(1029, 1440)"
      ]
     },
     "execution_count": 5,
     "metadata": {},
     "output_type": "execute_result"
    }
   ],
   "source": [
    "X = to_2D_array(df, 1440, 'activity')\n",
    "X.shape"
   ]
  },
  {
   "cell_type": "code",
   "execution_count": 6,
   "metadata": {},
   "outputs": [],
   "source": [
    "scaler = MinMaxScaler()\n",
    "\n",
    "n_samples, n_timesteps = X.shape\n",
    "X_reshaped = X.reshape(-1, 1)\n",
    "\n",
    "X = scaler.fit_transform(X_reshaped)\n",
    "X = X.reshape(n_samples, n_timesteps)"
   ]
  },
  {
   "cell_type": "code",
   "execution_count": 7,
   "metadata": {},
   "outputs": [
    {
     "data": {
      "text/plain": [
       "(1029,)"
      ]
     },
     "execution_count": 7,
     "metadata": {},
     "output_type": "execute_result"
    }
   ],
   "source": [
    "y = df.iloc[[ i*1440 for i in range(1029) ], -1].values\n",
    "y.shape"
   ]
  },
  {
   "cell_type": "code",
   "execution_count": 8,
   "metadata": {},
   "outputs": [],
   "source": [
    "def format_seconds(time_in_seconds: float) -> str:\n",
    "    hours: int = int(time_in_seconds // 3600)\n",
    "    minutes: int = int((time_in_seconds % 3600) // 60)\n",
    "    seconds: int = int(time_in_seconds % 60)\n",
    "    \n",
    "    return f\"{hours:02d}:{minutes:02d}:{seconds:02d}\""
   ]
  },
  {
   "cell_type": "code",
   "execution_count": 9,
   "metadata": {},
   "outputs": [],
   "source": [
    "cv = StratifiedKFold(n_splits=10, shuffle=True, random_state=42)"
   ]
  },
  {
   "cell_type": "code",
   "execution_count": 10,
   "metadata": {},
   "outputs": [
    {
     "name": "stdout",
     "output_type": "stream",
     "text": [
      "Accuracy TSF: 0.80\n",
      "\u001b[1m4/4\u001b[0m \u001b[32m━━━━━━━━━━━━━━━━━━━━\u001b[0m\u001b[37m\u001b[0m \u001b[1m1s\u001b[0m 294ms/step\n",
      "Accuracy LSTM: 0.65\n",
      "Accuracy TSF: 0.88\n",
      "\u001b[1m4/4\u001b[0m \u001b[32m━━━━━━━━━━━━━━━━━━━━\u001b[0m\u001b[37m\u001b[0m \u001b[1m2s\u001b[0m 398ms/step\n",
      "Accuracy LSTM: 0.65\n",
      "Accuracy TSF: 0.77\n",
      "WARNING:tensorflow:5 out of the last 9 calls to <function TensorFlowTrainer.make_predict_function.<locals>.one_step_on_data_distributed at 0x0000018F069F80E0> triggered tf.function retracing. Tracing is expensive and the excessive number of tracings could be due to (1) creating @tf.function repeatedly in a loop, (2) passing tensors with different shapes, (3) passing Python objects instead of tensors. For (1), please define your @tf.function outside of the loop. For (2), @tf.function has reduce_retracing=True option that can avoid unnecessary retracing. For (3), please refer to https://www.tensorflow.org/guide/function#controlling_retracing and https://www.tensorflow.org/api_docs/python/tf/function for  more details.\n",
      "\u001b[1m3/4\u001b[0m \u001b[32m━━━━━━━━━━━━━━━\u001b[0m\u001b[37m━━━━━\u001b[0m \u001b[1m0s\u001b[0m 233ms/stepWARNING:tensorflow:6 out of the last 12 calls to <function TensorFlowTrainer.make_predict_function.<locals>.one_step_on_data_distributed at 0x0000018F069F80E0> triggered tf.function retracing. Tracing is expensive and the excessive number of tracings could be due to (1) creating @tf.function repeatedly in a loop, (2) passing tensors with different shapes, (3) passing Python objects instead of tensors. For (1), please define your @tf.function outside of the loop. For (2), @tf.function has reduce_retracing=True option that can avoid unnecessary retracing. For (3), please refer to https://www.tensorflow.org/guide/function#controlling_retracing and https://www.tensorflow.org/api_docs/python/tf/function for  more details.\n",
      "\u001b[1m4/4\u001b[0m \u001b[32m━━━━━━━━━━━━━━━━━━━━\u001b[0m\u001b[37m\u001b[0m \u001b[1m1s\u001b[0m 297ms/step\n",
      "Accuracy LSTM: 0.65\n",
      "Accuracy TSF: 0.82\n",
      "\u001b[1m4/4\u001b[0m \u001b[32m━━━━━━━━━━━━━━━━━━━━\u001b[0m\u001b[37m\u001b[0m \u001b[1m1s\u001b[0m 312ms/step\n",
      "Accuracy LSTM: 0.65\n",
      "Accuracy TSF: 0.78\n",
      "\u001b[1m4/4\u001b[0m \u001b[32m━━━━━━━━━━━━━━━━━━━━\u001b[0m\u001b[37m\u001b[0m \u001b[1m1s\u001b[0m 303ms/step\n",
      "Accuracy LSTM: 0.65\n",
      "Accuracy TSF: 0.77\n",
      "\u001b[1m4/4\u001b[0m \u001b[32m━━━━━━━━━━━━━━━━━━━━\u001b[0m\u001b[37m\u001b[0m \u001b[1m2s\u001b[0m 325ms/step\n",
      "Accuracy LSTM: 0.65\n",
      "Accuracy TSF: 0.77\n",
      "\u001b[1m4/4\u001b[0m \u001b[32m━━━━━━━━━━━━━━━━━━━━\u001b[0m\u001b[37m\u001b[0m \u001b[1m1s\u001b[0m 308ms/step\n",
      "Accuracy LSTM: 0.65\n",
      "Accuracy TSF: 0.83\n",
      "\u001b[1m4/4\u001b[0m \u001b[32m━━━━━━━━━━━━━━━━━━━━\u001b[0m\u001b[37m\u001b[0m \u001b[1m2s\u001b[0m 317ms/step\n",
      "Accuracy LSTM: 0.65\n",
      "Accuracy TSF: 0.83\n",
      "\u001b[1m4/4\u001b[0m \u001b[32m━━━━━━━━━━━━━━━━━━━━\u001b[0m\u001b[37m\u001b[0m \u001b[1m2s\u001b[0m 400ms/step\n",
      "Accuracy LSTM: 0.65\n",
      "Accuracy TSF: 0.77\n",
      "\u001b[1m4/4\u001b[0m \u001b[32m━━━━━━━━━━━━━━━━━━━━\u001b[0m\u001b[37m\u001b[0m \u001b[1m1s\u001b[0m 237ms/step\n",
      "Accuracy LSTM: 0.66\n",
      "CPU Execution time: 00:04:33\n"
     ]
    }
   ],
   "source": [
    "start_time: float = time.process_time()\n",
    "\n",
    "accuracies_tsf = []\n",
    "accuracies_lstm = []\n",
    "for train_index, test_index in cv.split(X, y):\n",
    "    X_train, X_test = X[train_index], X[test_index]\n",
    "    y_train, y_test = y[train_index], y[test_index]\n",
    "    \n",
    "    tsf = TimeSeriesForestClassifier(random_state=42, n_jobs=-1)\n",
    "    tsf.fit(X_train, y_train)\n",
    "    y_pred = tsf.predict(X_test)\n",
    "    \n",
    "    accuracy_tsf = accuracy_score(y_test, y_pred)\n",
    "    accuracies_tsf.append(accuracy_tsf)\n",
    "    print(f'Accuracy TSF: {accuracy_tsf:.2f}')\n",
    "    \n",
    "    seed = 42\n",
    "    np.random.seed(seed)\n",
    "    tf.random.set_seed(seed)\n",
    "    random.seed(seed)\n",
    "\n",
    "    model = Sequential()\n",
    "    model.add(Input(shape=(X_train.shape[1], 1)))\n",
    "    model.add(LSTM(50, return_sequences=True))\n",
    "    model.add(LSTM(50))\n",
    "    model.add(Dense(1, activation='sigmoid'))\n",
    "\n",
    "    model.compile(optimizer='adam', loss='binary_crossentropy', metrics=['accuracy'])\n",
    "    \n",
    "    X_train_reshaped = X_train.reshape((X_train.shape[0], X_train.shape[1], 1))\n",
    "    X_test_reshaped = X_test.reshape((X_test.shape[0], X_test.shape[1], 1))\n",
    "\n",
    "    y_train_binary = np.array([int(c == 'depressed') for c in y_train])\n",
    "    y_test_binary = np.array([int(c == 'depressed') for c in y_test])\n",
    "\n",
    "    model.fit(X_train_reshaped, y_train_binary, epochs=10, batch_size=32, verbose=0)\n",
    "\n",
    "    y_pred_lstm = (model.predict(X_test_reshaped) > 0.5).astype(\"int32\")\n",
    "\n",
    "    accuracy_lstm = accuracy_score(y_test_binary, y_pred_lstm)\n",
    "    accuracies_lstm.append(accuracy_lstm)\n",
    "    print(f'Accuracy LSTM: {accuracy_lstm:.2f}')  \n",
    "\n",
    "end_time: float = time.process_time()\n",
    "cpu_execution_time: float = end_time - start_time\n",
    "print(f'CPU Execution time: {format_seconds(cpu_execution_time)}')"
   ]
  },
  {
   "cell_type": "code",
   "execution_count": 11,
   "metadata": {},
   "outputs": [
    {
     "name": "stdout",
     "output_type": "stream",
     "text": [
      "Acurácia Média TSF: 0.80\n",
      "Acurácia Média LSTM: 0.65\n"
     ]
    }
   ],
   "source": [
    "print(f'Acurácia Média TSF: {np.mean(accuracies_tsf):.2f}')    \n",
    "print(f'Acurácia Média LSTM: {np.mean(accuracies_lstm):.2f}')  "
   ]
  }
 ],
 "metadata": {
  "kernelspec": {
   "display_name": "venv",
   "language": "python",
   "name": "python3"
  },
  "language_info": {
   "codemirror_mode": {
    "name": "ipython",
    "version": 3
   },
   "file_extension": ".py",
   "mimetype": "text/x-python",
   "name": "python",
   "nbconvert_exporter": "python",
   "pygments_lexer": "ipython3",
   "version": "3.12.4"
  }
 },
 "nbformat": 4,
 "nbformat_minor": 2
}
