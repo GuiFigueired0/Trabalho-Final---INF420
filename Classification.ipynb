{
 "cells": [
  {
   "cell_type": "code",
   "execution_count": 1,
   "metadata": {},
   "outputs": [],
   "source": [
    "import time\n",
    "import random\n",
    "import numpy as np\n",
    "import pandas as pd\n",
    "from typing import TypeVar, Callable\n",
    "\n",
    "from sklearn.preprocessing import MinMaxScaler\n",
    "from sktime.classification import BaseClassifier\n",
    "from sklearn.model_selection import StratifiedKFold\n",
    "from sktime.classification.kernel_based import RocketClassifier\n",
    "from sklearn.metrics import classification_report, accuracy_score\n",
    "from sktime.classification.interval_based import TimeSeriesForestClassifier"
   ]
  },
  {
   "cell_type": "code",
   "execution_count": 2,
   "metadata": {},
   "outputs": [],
   "source": [
    "raw_csv_data: pd.DataFrame = pd.read_csv('time_series.csv') \n",
    "df: pd.DataFrame = raw_csv_data.copy() "
   ]
  },
  {
   "cell_type": "code",
   "execution_count": 3,
   "metadata": {},
   "outputs": [
    {
     "data": {
      "text/html": [
       "<div>\n",
       "<style scoped>\n",
       "    .dataframe tbody tr th:only-of-type {\n",
       "        vertical-align: middle;\n",
       "    }\n",
       "\n",
       "    .dataframe tbody tr th {\n",
       "        vertical-align: top;\n",
       "    }\n",
       "\n",
       "    .dataframe thead th {\n",
       "        text-align: right;\n",
       "    }\n",
       "</style>\n",
       "<table border=\"1\" class=\"dataframe\">\n",
       "  <thead>\n",
       "    <tr style=\"text-align: right;\">\n",
       "      <th></th>\n",
       "      <th>id</th>\n",
       "      <th>timestamp</th>\n",
       "      <th>date</th>\n",
       "      <th>activity</th>\n",
       "      <th>owner</th>\n",
       "      <th>class</th>\n",
       "      <th>binary_class</th>\n",
       "    </tr>\n",
       "  </thead>\n",
       "  <tbody>\n",
       "    <tr>\n",
       "      <th>0</th>\n",
       "      <td>0</td>\n",
       "      <td>2003-05-08 00:00:00</td>\n",
       "      <td>2003-05-08</td>\n",
       "      <td>0</td>\n",
       "      <td>condition_1</td>\n",
       "      <td>unipolar depressive</td>\n",
       "      <td>depressed</td>\n",
       "    </tr>\n",
       "    <tr>\n",
       "      <th>1</th>\n",
       "      <td>0</td>\n",
       "      <td>2003-05-08 00:01:00</td>\n",
       "      <td>2003-05-08</td>\n",
       "      <td>0</td>\n",
       "      <td>condition_1</td>\n",
       "      <td>unipolar depressive</td>\n",
       "      <td>depressed</td>\n",
       "    </tr>\n",
       "    <tr>\n",
       "      <th>2</th>\n",
       "      <td>0</td>\n",
       "      <td>2003-05-08 00:02:00</td>\n",
       "      <td>2003-05-08</td>\n",
       "      <td>0</td>\n",
       "      <td>condition_1</td>\n",
       "      <td>unipolar depressive</td>\n",
       "      <td>depressed</td>\n",
       "    </tr>\n",
       "    <tr>\n",
       "      <th>3</th>\n",
       "      <td>0</td>\n",
       "      <td>2003-05-08 00:03:00</td>\n",
       "      <td>2003-05-08</td>\n",
       "      <td>0</td>\n",
       "      <td>condition_1</td>\n",
       "      <td>unipolar depressive</td>\n",
       "      <td>depressed</td>\n",
       "    </tr>\n",
       "    <tr>\n",
       "      <th>4</th>\n",
       "      <td>0</td>\n",
       "      <td>2003-05-08 00:04:00</td>\n",
       "      <td>2003-05-08</td>\n",
       "      <td>0</td>\n",
       "      <td>condition_1</td>\n",
       "      <td>unipolar depressive</td>\n",
       "      <td>depressed</td>\n",
       "    </tr>\n",
       "  </tbody>\n",
       "</table>\n",
       "</div>"
      ],
      "text/plain": [
       "   id            timestamp        date  activity        owner  \\\n",
       "0   0  2003-05-08 00:00:00  2003-05-08         0  condition_1   \n",
       "1   0  2003-05-08 00:01:00  2003-05-08         0  condition_1   \n",
       "2   0  2003-05-08 00:02:00  2003-05-08         0  condition_1   \n",
       "3   0  2003-05-08 00:03:00  2003-05-08         0  condition_1   \n",
       "4   0  2003-05-08 00:04:00  2003-05-08         0  condition_1   \n",
       "\n",
       "                 class binary_class  \n",
       "0  unipolar depressive    depressed  \n",
       "1  unipolar depressive    depressed  \n",
       "2  unipolar depressive    depressed  \n",
       "3  unipolar depressive    depressed  \n",
       "4  unipolar depressive    depressed  "
      ]
     },
     "execution_count": 3,
     "metadata": {},
     "output_type": "execute_result"
    }
   ],
   "source": [
    "df.head()"
   ]
  },
  {
   "cell_type": "code",
   "execution_count": 4,
   "metadata": {},
   "outputs": [],
   "source": [
    "def to_2D_array(df: pd.DataFrame, n_days: int, variable: str) -> np.ndarray:\n",
    "    n_users: int = len(df.id.unique())\n",
    "    arr: np.ndarray = df[variable].values.reshape(n_users, n_days)\n",
    "    return arr"
   ]
  },
  {
   "cell_type": "code",
   "execution_count": 5,
   "metadata": {},
   "outputs": [
    {
     "data": {
      "text/plain": [
       "(1029, 1440)"
      ]
     },
     "execution_count": 5,
     "metadata": {},
     "output_type": "execute_result"
    }
   ],
   "source": [
    "X = to_2D_array(df, 1440, 'activity')\n",
    "X.shape"
   ]
  },
  {
   "cell_type": "code",
   "execution_count": 6,
   "metadata": {},
   "outputs": [],
   "source": [
    "scaler = MinMaxScaler()\n",
    "\n",
    "n_samples, n_timesteps = X.shape\n",
    "X_reshaped = X.reshape(-1, 1)\n",
    "\n",
    "X = scaler.fit_transform(X_reshaped)\n",
    "X = X.reshape(n_samples, n_timesteps)"
   ]
  },
  {
   "cell_type": "code",
   "execution_count": 7,
   "metadata": {},
   "outputs": [
    {
     "data": {
      "text/plain": [
       "(1029,)"
      ]
     },
     "execution_count": 7,
     "metadata": {},
     "output_type": "execute_result"
    }
   ],
   "source": [
    "y = df.iloc[[ i*1440 for i in range(1029) ], -1].values\n",
    "y.shape"
   ]
  },
  {
   "cell_type": "code",
   "execution_count": 8,
   "metadata": {},
   "outputs": [],
   "source": [
    "def format_seconds(time_in_seconds: float) -> str:\n",
    "    hours: int = int(time_in_seconds // 3600)\n",
    "    minutes: int = int((time_in_seconds % 3600) // 60)\n",
    "    seconds: int = int(time_in_seconds % 60)\n",
    "    \n",
    "    return f\"{hours:02d}:{minutes:02d}:{seconds:02d}\""
   ]
  },
  {
   "cell_type": "code",
   "execution_count": 9,
   "metadata": {},
   "outputs": [],
   "source": [
    "cv = StratifiedKFold(n_splits=10, shuffle=True, random_state=42)"
   ]
  },
  {
   "cell_type": "code",
   "execution_count": 10,
   "metadata": {},
   "outputs": [],
   "source": [
    "Classifier = TypeVar('Classifier', bound=BaseClassifier)\n",
    "def run_classifier(clf: Classifier, X_train: np.ndarray, X_test: np.ndarray, y_train: np.ndarray, y_test: np.ndarray) -> np.ndarray:\n",
    "    clf.fit(X_train, y_train) \n",
    "    y_pred: np.ndarray = clf.predict(X_test) \n",
    "    accuracy: float = accuracy_score(y_test, y_pred)\n",
    "    print(f'Accuracy score: {accuracy}')\n",
    "    print(classification_report(y_test, y_pred, digits=5, zero_division=np.nan))\n",
    "    return accuracy"
   ]
  },
  {
   "cell_type": "code",
   "execution_count": 12,
   "metadata": {},
   "outputs": [
    {
     "ename": "ModuleNotFoundError",
     "evalue": "RocketClassifier requires package 'numba' to be present in the python environment, but 'numba' was not found. 'numba' is a soft dependency and not included in the base sktime installation. Please run: `pip install numba` to install the numba package. To install all soft dependencies, run: `pip install sktime[all_extras]`",
     "output_type": "error",
     "traceback": [
      "\u001b[1;31m---------------------------------------------------------------------------\u001b[0m",
      "\u001b[1;31mModuleNotFoundError\u001b[0m                       Traceback (most recent call last)",
      "Cell \u001b[1;32mIn[12], line 10\u001b[0m\n\u001b[0;32m      7\u001b[0m y_train, y_test \u001b[38;5;241m=\u001b[39m y[train_index], y[test_index]\n\u001b[0;32m      9\u001b[0m tsf \u001b[38;5;241m=\u001b[39m TimeSeriesForestClassifier(random_state\u001b[38;5;241m=\u001b[39m\u001b[38;5;241m42\u001b[39m, n_jobs\u001b[38;5;241m=\u001b[39m\u001b[38;5;241m-\u001b[39m\u001b[38;5;241m1\u001b[39m)\n\u001b[1;32m---> 10\u001b[0m rocket \u001b[38;5;241m=\u001b[39m \u001b[43mRocketClassifier\u001b[49m\u001b[43m(\u001b[49m\u001b[43mrandom_state\u001b[49m\u001b[38;5;241;43m=\u001b[39;49m\u001b[38;5;241;43m42\u001b[39;49m\u001b[43m,\u001b[49m\u001b[43m \u001b[49m\u001b[43mn_jobs\u001b[49m\u001b[38;5;241;43m=\u001b[39;49m\u001b[38;5;241;43m-\u001b[39;49m\u001b[38;5;241;43m1\u001b[39;49m\u001b[43m)\u001b[49m\n\u001b[0;32m     11\u001b[0m accuracies_tsf\u001b[38;5;241m.\u001b[39mappend(run_classifier(tsf, X_train, X_test, y_train, y_test))\n\u001b[0;32m     12\u001b[0m accuracies_rocket\u001b[38;5;241m.\u001b[39mappend(run_classifier(rocket, X_train, X_test, y_train, y_test))\n",
      "File \u001b[1;32mc:\\Users\\guilh\\GitHub\\Trabalho-Final---INF420\\venv\\Lib\\site-packages\\sktime\\classification\\kernel_based\\_rocket_classifier.py:162\u001b[0m, in \u001b[0;36mRocketClassifier.__init__\u001b[1;34m(self, num_kernels, rocket_transform, max_dilations_per_kernel, n_features_per_kernel, use_multivariate, n_jobs, random_state)\u001b[0m\n\u001b[0;32m    159\u001b[0m \u001b[38;5;28mself\u001b[39m\u001b[38;5;241m.\u001b[39mn_jobs \u001b[38;5;241m=\u001b[39m n_jobs\n\u001b[0;32m    160\u001b[0m \u001b[38;5;28mself\u001b[39m\u001b[38;5;241m.\u001b[39mrandom_state \u001b[38;5;241m=\u001b[39m random_state\n\u001b[1;32m--> 162\u001b[0m \u001b[38;5;28;43msuper\u001b[39;49m\u001b[43m(\u001b[49m\u001b[43m)\u001b[49m\u001b[38;5;241;43m.\u001b[39;49m\u001b[38;5;21;43m__init__\u001b[39;49m\u001b[43m(\u001b[49m\u001b[43m)\u001b[49m\n\u001b[0;32m    164\u001b[0m \u001b[38;5;28;01mif\u001b[39;00m use_multivariate \u001b[38;5;129;01mnot\u001b[39;00m \u001b[38;5;129;01min\u001b[39;00m \u001b[38;5;28mself\u001b[39m\u001b[38;5;241m.\u001b[39mVALID_MULTIVAR_VALUES:\n\u001b[0;32m    165\u001b[0m     \u001b[38;5;28;01mraise\u001b[39;00m \u001b[38;5;167;01mValueError\u001b[39;00m(\n\u001b[0;32m    166\u001b[0m         \u001b[38;5;124mf\u001b[39m\u001b[38;5;124m\"\u001b[39m\u001b[38;5;124mInvalid use_multivariate value, must be one of \u001b[39m\u001b[38;5;124m\"\u001b[39m\n\u001b[0;32m    167\u001b[0m         \u001b[38;5;124mf\u001b[39m\u001b[38;5;124m\"\u001b[39m\u001b[38;5;132;01m{\u001b[39;00m\u001b[38;5;28mself\u001b[39m\u001b[38;5;241m.\u001b[39mVALID_MULTIVAR_VALUES\u001b[38;5;132;01m}\u001b[39;00m\u001b[38;5;124m, but found \u001b[39m\u001b[38;5;132;01m{\u001b[39;00muse_multivariate\u001b[38;5;132;01m}\u001b[39;00m\u001b[38;5;124m\"\u001b[39m\n\u001b[0;32m    168\u001b[0m     )\n",
      "File \u001b[1;32mc:\\Users\\guilh\\GitHub\\Trabalho-Final---INF420\\venv\\Lib\\site-packages\\sktime\\classification\\base.py:106\u001b[0m, in \u001b[0;36mBaseClassifier.__init__\u001b[1;34m(self)\u001b[0m\n\u001b[0;32m    103\u001b[0m \u001b[38;5;28mself\u001b[39m\u001b[38;5;241m.\u001b[39m_converter_store_y \u001b[38;5;241m=\u001b[39m {}\n\u001b[0;32m    105\u001b[0m \u001b[38;5;28msuper\u001b[39m()\u001b[38;5;241m.\u001b[39m\u001b[38;5;21m__init__\u001b[39m()\n\u001b[1;32m--> 106\u001b[0m \u001b[43m_check_estimator_deps\u001b[49m\u001b[43m(\u001b[49m\u001b[38;5;28;43mself\u001b[39;49m\u001b[43m)\u001b[49m\n",
      "File \u001b[1;32mc:\\Users\\guilh\\GitHub\\Trabalho-Final---INF420\\venv\\Lib\\site-packages\\sktime\\utils\\dependencies\\_dependencies.py:530\u001b[0m, in \u001b[0;36m_check_estimator_deps\u001b[1;34m(obj, msg, severity)\u001b[0m\n\u001b[0;32m    528\u001b[0m     pkg_deps \u001b[38;5;241m=\u001b[39m [pkg_deps]\n\u001b[0;32m    529\u001b[0m \u001b[38;5;28;01mif\u001b[39;00m pkg_deps \u001b[38;5;129;01mis\u001b[39;00m \u001b[38;5;129;01mnot\u001b[39;00m \u001b[38;5;28;01mNone\u001b[39;00m:\n\u001b[1;32m--> 530\u001b[0m     pkg_deps_ok \u001b[38;5;241m=\u001b[39m \u001b[43m_check_soft_dependencies\u001b[49m\u001b[43m(\u001b[49m\u001b[38;5;241;43m*\u001b[39;49m\u001b[43mpkg_deps\u001b[49m\u001b[43m,\u001b[49m\u001b[43m \u001b[49m\u001b[43mseverity\u001b[49m\u001b[38;5;241;43m=\u001b[39;49m\u001b[43mseverity\u001b[49m\u001b[43m,\u001b[49m\u001b[43m \u001b[49m\u001b[43mobj\u001b[49m\u001b[38;5;241;43m=\u001b[39;49m\u001b[43mobj\u001b[49m\u001b[43m)\u001b[49m\n\u001b[0;32m    531\u001b[0m     compatible \u001b[38;5;241m=\u001b[39m compatible \u001b[38;5;129;01mand\u001b[39;00m pkg_deps_ok\n\u001b[0;32m    533\u001b[0m \u001b[38;5;28;01mreturn\u001b[39;00m compatible\n",
      "File \u001b[1;32mc:\\Users\\guilh\\GitHub\\Trabalho-Final---INF420\\venv\\Lib\\site-packages\\sktime\\utils\\dependencies\\_dependencies.py:169\u001b[0m, in \u001b[0;36m_check_soft_dependencies\u001b[1;34m(package_import_alias, severity, obj, msg, normalize_reqs, *packages)\u001b[0m\n\u001b[0;32m    157\u001b[0m         msg \u001b[38;5;241m=\u001b[39m (\n\u001b[0;32m    158\u001b[0m             \u001b[38;5;124mf\u001b[39m\u001b[38;5;124m\"\u001b[39m\u001b[38;5;132;01m{\u001b[39;00mclass_name\u001b[38;5;132;01m}\u001b[39;00m\u001b[38;5;124m requires package \u001b[39m\u001b[38;5;132;01m{\u001b[39;00mpackage\u001b[38;5;132;01m!r}\u001b[39;00m\u001b[38;5;124m to be present \u001b[39m\u001b[38;5;124m\"\u001b[39m\n\u001b[0;32m    159\u001b[0m             \u001b[38;5;124mf\u001b[39m\u001b[38;5;124m\"\u001b[39m\u001b[38;5;124min the python environment, but \u001b[39m\u001b[38;5;132;01m{\u001b[39;00mpackage\u001b[38;5;132;01m!r}\u001b[39;00m\u001b[38;5;124m was not found. \u001b[39m\u001b[38;5;124m\"\u001b[39m\n\u001b[1;32m   (...)\u001b[0m\n\u001b[0;32m    164\u001b[0m             \u001b[38;5;124mf\u001b[39m\u001b[38;5;124m\"\u001b[39m\u001b[38;5;124msktime[all_extras]`\u001b[39m\u001b[38;5;124m\"\u001b[39m\n\u001b[0;32m    165\u001b[0m         )\n\u001b[0;32m    166\u001b[0m     \u001b[38;5;66;03m# if msg is not None, none of the above is executed,\u001b[39;00m\n\u001b[0;32m    167\u001b[0m     \u001b[38;5;66;03m# so if msg is passed it overrides the default messages\u001b[39;00m\n\u001b[1;32m--> 169\u001b[0m     \u001b[43m_raise_at_severity\u001b[49m\u001b[43m(\u001b[49m\u001b[43mmsg\u001b[49m\u001b[43m,\u001b[49m\u001b[43m \u001b[49m\u001b[43mseverity\u001b[49m\u001b[43m,\u001b[49m\u001b[43m \u001b[49m\u001b[43mcaller\u001b[49m\u001b[38;5;241;43m=\u001b[39;49m\u001b[38;5;124;43m\"\u001b[39;49m\u001b[38;5;124;43m_check_soft_dependencies\u001b[39;49m\u001b[38;5;124;43m\"\u001b[39;49m\u001b[43m)\u001b[49m\n\u001b[0;32m    170\u001b[0m     \u001b[38;5;28;01mreturn\u001b[39;00m \u001b[38;5;28;01mFalse\u001b[39;00m\n\u001b[0;32m    172\u001b[0m \u001b[38;5;66;03m# now we check compatibility with the version specifier if non-empty\u001b[39;00m\n",
      "File \u001b[1;32mc:\\Users\\guilh\\GitHub\\Trabalho-Final---INF420\\venv\\Lib\\site-packages\\sktime\\utils\\dependencies\\_dependencies.py:637\u001b[0m, in \u001b[0;36m_raise_at_severity\u001b[1;34m(msg, severity, exception_type, warning_type, stacklevel, caller)\u001b[0m\n\u001b[0;32m    634\u001b[0m     exception_type \u001b[38;5;241m=\u001b[39m \u001b[38;5;167;01mModuleNotFoundError\u001b[39;00m\n\u001b[0;32m    636\u001b[0m \u001b[38;5;28;01mif\u001b[39;00m severity \u001b[38;5;241m==\u001b[39m \u001b[38;5;124m\"\u001b[39m\u001b[38;5;124merror\u001b[39m\u001b[38;5;124m\"\u001b[39m:\n\u001b[1;32m--> 637\u001b[0m     \u001b[38;5;28;01mraise\u001b[39;00m exception_type(msg)\n\u001b[0;32m    638\u001b[0m \u001b[38;5;28;01melif\u001b[39;00m severity \u001b[38;5;241m==\u001b[39m \u001b[38;5;124m\"\u001b[39m\u001b[38;5;124mwarning\u001b[39m\u001b[38;5;124m\"\u001b[39m:\n\u001b[0;32m    639\u001b[0m     warnings\u001b[38;5;241m.\u001b[39mwarn(msg, category\u001b[38;5;241m=\u001b[39mwarning_type, stacklevel\u001b[38;5;241m=\u001b[39mstacklevel)\n",
      "\u001b[1;31mModuleNotFoundError\u001b[0m: RocketClassifier requires package 'numba' to be present in the python environment, but 'numba' was not found. 'numba' is a soft dependency and not included in the base sktime installation. Please run: `pip install numba` to install the numba package. To install all soft dependencies, run: `pip install sktime[all_extras]`"
     ]
    }
   ],
   "source": [
    "start_time: float = time.process_time()\n",
    "\n",
    "accuracies_tsf = []\n",
    "accuracies_rocket = []\n",
    "for train_index, test_index in cv.split(X, y):\n",
    "    X_train, X_test = X[train_index], X[test_index]\n",
    "    y_train, y_test = y[train_index], y[test_index]\n",
    "    \n",
    "    tsf = TimeSeriesForestClassifier(random_state=42, n_jobs=-1)\n",
    "    rocket = RocketClassifier(random_state=42, n_jobs=-1)\n",
    "    accuracies_tsf.append(run_classifier(tsf, X_train, X_test, y_train, y_test))\n",
    "    accuracies_rocket.append(run_classifier(rocket, X_train, X_test, y_train, y_test))\n",
    "    print()\n",
    "\n",
    "end_time: float = time.process_time()\n",
    "cpu_execution_time: float = end_time - start_time\n",
    "print(f'CPU Execution time: {format_seconds(cpu_execution_time)}')"
   ]
  },
  {
   "cell_type": "code",
   "execution_count": null,
   "metadata": {},
   "outputs": [
    {
     "name": "stdout",
     "output_type": "stream",
     "text": [
      "Acurácia Média TSF: 0.80\n",
      "Acurácia Média LSTM: 0.65\n"
     ]
    }
   ],
   "source": [
    "print(f'Acurácia Média TSF: {np.mean(accuracies_tsf):.2f}')    \n",
    "print(f'Acurácia Média ROCKET: {np.mean(accuracies_rocket):.2f}')  "
   ]
  }
 ],
 "metadata": {
  "kernelspec": {
   "display_name": "venv",
   "language": "python",
   "name": "python3"
  },
  "language_info": {
   "codemirror_mode": {
    "name": "ipython",
    "version": 3
   },
   "file_extension": ".py",
   "mimetype": "text/x-python",
   "name": "python",
   "nbconvert_exporter": "python",
   "pygments_lexer": "ipython3",
   "version": "3.12.4"
  }
 },
 "nbformat": 4,
 "nbformat_minor": 2
}
