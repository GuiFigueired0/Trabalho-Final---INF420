{
 "cells": [
  {
   "cell_type": "code",
   "execution_count": 63,
   "metadata": {},
   "outputs": [],
   "source": [
    "import pandas as pd\n",
    "\n",
    "from sklearn.model_selection import StratifiedKFold\n",
    "from sktime.classification.interval_based import TimeSeriesForestClassifier\n",
    "from sklearn.metrics import accuracy_score\n",
    "import numpy as np"
   ]
  },
  {
   "cell_type": "code",
   "execution_count": 54,
   "metadata": {},
   "outputs": [],
   "source": [
    "raw_csv_data: pd.DataFrame = pd.read_csv('time_series.csv') \n",
    "df: pd.DataFrame = raw_csv_data.copy() "
   ]
  },
  {
   "cell_type": "code",
   "execution_count": 55,
   "metadata": {},
   "outputs": [
    {
     "data": {
      "text/html": [
       "<div>\n",
       "<style scoped>\n",
       "    .dataframe tbody tr th:only-of-type {\n",
       "        vertical-align: middle;\n",
       "    }\n",
       "\n",
       "    .dataframe tbody tr th {\n",
       "        vertical-align: top;\n",
       "    }\n",
       "\n",
       "    .dataframe thead th {\n",
       "        text-align: right;\n",
       "    }\n",
       "</style>\n",
       "<table border=\"1\" class=\"dataframe\">\n",
       "  <thead>\n",
       "    <tr style=\"text-align: right;\">\n",
       "      <th></th>\n",
       "      <th>id</th>\n",
       "      <th>timestamp</th>\n",
       "      <th>date</th>\n",
       "      <th>activity</th>\n",
       "      <th>owner</th>\n",
       "      <th>class</th>\n",
       "      <th>binary_class</th>\n",
       "    </tr>\n",
       "  </thead>\n",
       "  <tbody>\n",
       "    <tr>\n",
       "      <th>0</th>\n",
       "      <td>0</td>\n",
       "      <td>2003-05-08 00:00:00</td>\n",
       "      <td>2003-05-08</td>\n",
       "      <td>0</td>\n",
       "      <td>condition_1</td>\n",
       "      <td>unipolar depressive</td>\n",
       "      <td>depressed</td>\n",
       "    </tr>\n",
       "    <tr>\n",
       "      <th>1</th>\n",
       "      <td>0</td>\n",
       "      <td>2003-05-08 00:01:00</td>\n",
       "      <td>2003-05-08</td>\n",
       "      <td>0</td>\n",
       "      <td>condition_1</td>\n",
       "      <td>unipolar depressive</td>\n",
       "      <td>depressed</td>\n",
       "    </tr>\n",
       "    <tr>\n",
       "      <th>2</th>\n",
       "      <td>0</td>\n",
       "      <td>2003-05-08 00:02:00</td>\n",
       "      <td>2003-05-08</td>\n",
       "      <td>0</td>\n",
       "      <td>condition_1</td>\n",
       "      <td>unipolar depressive</td>\n",
       "      <td>depressed</td>\n",
       "    </tr>\n",
       "    <tr>\n",
       "      <th>3</th>\n",
       "      <td>0</td>\n",
       "      <td>2003-05-08 00:03:00</td>\n",
       "      <td>2003-05-08</td>\n",
       "      <td>0</td>\n",
       "      <td>condition_1</td>\n",
       "      <td>unipolar depressive</td>\n",
       "      <td>depressed</td>\n",
       "    </tr>\n",
       "    <tr>\n",
       "      <th>4</th>\n",
       "      <td>0</td>\n",
       "      <td>2003-05-08 00:04:00</td>\n",
       "      <td>2003-05-08</td>\n",
       "      <td>0</td>\n",
       "      <td>condition_1</td>\n",
       "      <td>unipolar depressive</td>\n",
       "      <td>depressed</td>\n",
       "    </tr>\n",
       "  </tbody>\n",
       "</table>\n",
       "</div>"
      ],
      "text/plain": [
       "   id            timestamp        date  activity        owner  \\\n",
       "0   0  2003-05-08 00:00:00  2003-05-08         0  condition_1   \n",
       "1   0  2003-05-08 00:01:00  2003-05-08         0  condition_1   \n",
       "2   0  2003-05-08 00:02:00  2003-05-08         0  condition_1   \n",
       "3   0  2003-05-08 00:03:00  2003-05-08         0  condition_1   \n",
       "4   0  2003-05-08 00:04:00  2003-05-08         0  condition_1   \n",
       "\n",
       "                 class binary_class  \n",
       "0  unipolar depressive    depressed  \n",
       "1  unipolar depressive    depressed  \n",
       "2  unipolar depressive    depressed  \n",
       "3  unipolar depressive    depressed  \n",
       "4  unipolar depressive    depressed  "
      ]
     },
     "execution_count": 55,
     "metadata": {},
     "output_type": "execute_result"
    }
   ],
   "source": [
    "df.head()"
   ]
  },
  {
   "cell_type": "code",
   "execution_count": 56,
   "metadata": {},
   "outputs": [],
   "source": [
    "def to_2D_array(df: pd.DataFrame, n_days: int, variable: str) -> np.ndarray:\n",
    "    n_users: int = len(df.id.unique())\n",
    "    arr: np.ndarray = df[variable].values.reshape(n_users, n_days)\n",
    "    return arr"
   ]
  },
  {
   "cell_type": "code",
   "execution_count": 57,
   "metadata": {},
   "outputs": [
    {
     "data": {
      "text/plain": [
       "(1029, 1440)"
      ]
     },
     "execution_count": 57,
     "metadata": {},
     "output_type": "execute_result"
    }
   ],
   "source": [
    "X = to_2D_array(df, 1440, 'activity')\n",
    "X.shape"
   ]
  },
  {
   "cell_type": "code",
   "execution_count": 58,
   "metadata": {},
   "outputs": [
    {
     "data": {
      "text/plain": [
       "(1029,)"
      ]
     },
     "execution_count": 58,
     "metadata": {},
     "output_type": "execute_result"
    }
   ],
   "source": [
    "y = df.iloc[[ i*1440 for i in range(1029) ], -1].values\n",
    "y.shape"
   ]
  },
  {
   "cell_type": "code",
   "execution_count": 59,
   "metadata": {},
   "outputs": [],
   "source": [
    "cv = StratifiedKFold(n_splits=10, shuffle=True, random_state=1)"
   ]
  },
  {
   "cell_type": "code",
   "execution_count": 60,
   "metadata": {},
   "outputs": [
    {
     "name": "stdout",
     "output_type": "stream",
     "text": [
      "Acurácia: 0.87\n",
      "Acurácia: 0.80\n",
      "Acurácia: 0.80\n",
      "Acurácia: 0.79\n",
      "Acurácia: 0.78\n",
      "Acurácia: 0.82\n",
      "Acurácia: 0.80\n",
      "Acurácia: 0.83\n",
      "Acurácia: 0.78\n",
      "Acurácia: 0.79\n"
     ]
    }
   ],
   "source": [
    "accuracies = []\n",
    "for train_index, test_index in cv.split(X, y):\n",
    "    X_train, X_test = X[train_index], X[test_index]\n",
    "    y_train, y_test = y[train_index], y[test_index]\n",
    "    \n",
    "    tsf = TimeSeriesForestClassifier(random_state=1)\n",
    "    tsf.fit(X_train, y_train)\n",
    "    y_pred = tsf.predict(X_test)\n",
    "    \n",
    "    accuracy = accuracy_score(y_test, y_pred)\n",
    "    accuracies.append(accuracy)\n",
    "    \n",
    "    print(f'Acurácia: {accuracy:.2f}')"
   ]
  },
  {
   "cell_type": "code",
   "execution_count": 61,
   "metadata": {},
   "outputs": [
    {
     "name": "stdout",
     "output_type": "stream",
     "text": [
      "Acurácia Média: 0.80\n"
     ]
    }
   ],
   "source": [
    "print(f'Acurácia Média: {np.mean(accuracies):.2f}')"
   ]
  }
 ],
 "metadata": {
  "kernelspec": {
   "display_name": "venv",
   "language": "python",
   "name": "python3"
  },
  "language_info": {
   "codemirror_mode": {
    "name": "ipython",
    "version": 3
   },
   "file_extension": ".py",
   "mimetype": "text/x-python",
   "name": "python",
   "nbconvert_exporter": "python",
   "pygments_lexer": "ipython3",
   "version": "3.12.4"
  }
 },
 "nbformat": 4,
 "nbformat_minor": 2
}
